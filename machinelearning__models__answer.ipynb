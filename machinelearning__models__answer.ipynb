{
  "metadata": {
    "kernelspec": {
      "language": "python",
      "display_name": "Python 3",
      "name": "python3"
    },
    "language_info": {
      "name": "python",
      "version": "3.10.13",
      "mimetype": "text/x-python",
      "codemirror_mode": {
        "name": "ipython",
        "version": 3
      },
      "pygments_lexer": "ipython3",
      "nbconvert_exporter": "python",
      "file_extension": ".py"
    },
    "kaggle": {
      "accelerator": "gpu",
      "dataSources": [
        {
          "sourceId": 7843926,
          "sourceType": "datasetVersion",
          "datasetId": 4598950
        }
      ],
      "dockerImageVersionId": 30665,
      "isInternetEnabled": true,
      "language": "python",
      "sourceType": "notebook",
      "isGpuEnabled": true
    },
    "colab": {
      "provenance": []
    }
  },
  "nbformat_minor": 0,
  "nbformat": 4,
  "cells": [
    {
      "cell_type": "markdown",
      "source": [
        "### Importing the libraries"
      ],
      "metadata": {
        "id": "hdf3qGFz7z4J"
      }
    },
    {
      "cell_type": "code",
      "source": [
        "import os\n",
        "import pandas as pd\n",
        "import  numpy as np\n",
        "from skimage import io, transform\n",
        "from sklearn.model_selection import train_test_split\n",
        "from sklearn.svm import SVC\n",
        "from sklearn.model_selection import GridSearchCV\n",
        "from sklearn.ensemble import RandomForestClassifier\n",
        "from sklearn.metrics import accuracy_score\n",
        "import matplotlib.pyplot as plt\n",
        "from sklearn.metrics import accuracy_score, classification_report, confusion_matrix"
      ],
      "metadata": {
        "execution": {
          "iopub.status.busy": "2024-03-15T18:22:12.306553Z",
          "iopub.execute_input": "2024-03-15T18:22:12.307572Z",
          "iopub.status.idle": "2024-03-15T18:22:12.312865Z",
          "shell.execute_reply.started": "2024-03-15T18:22:12.307536Z",
          "shell.execute_reply": "2024-03-15T18:22:12.311885Z"
        },
        "trusted": true,
        "id": "wvv45djj7y09"
      },
      "execution_count": null,
      "outputs": []
    },
    {
      "cell_type": "markdown",
      "source": [
        "### Data Preparation"
      ],
      "metadata": {
        "id": "J5KWxNXN8GMg"
      }
    },
    {
      "cell_type": "code",
      "source": [
        "# Directory containing the data\n",
        "data_directory = \"/kaggle/input/datasettaskmariam/dataset/data\"\n",
        "\n",
        "# Initialize empty lists to store labels and image paths\n",
        "labels = []\n",
        "image_paths = []\n",
        "\n",
        "# Loop through each folder in the data directory\n",
        "for folder_name in os.listdir(data_directory):\n",
        "    # Get the full path of the folder\n",
        "    folder_path = os.path.join(data_directory, folder_name)\n",
        "\n",
        "    # Check if it's a directory\n",
        "    if os.path.isdir(folder_path):\n",
        "        # Extract label from folder name\n",
        "        label = folder_name\n",
        "\n",
        "        # Loop through each image file in the folder\n",
        "        for file_name in os.listdir(folder_path):\n",
        "            # Get the full path of the image file\n",
        "            image_path = os.path.join(folder_path, file_name)\n",
        "\n",
        "            # Append label and image path to lists\n",
        "            labels.append(label)\n",
        "            image_paths.append(image_path)\n",
        "\n",
        "# Create a DataFrame from the lists\n",
        "df = pd.DataFrame({'image_path': image_paths, 'label': labels})\n",
        "\n",
        "# Display the DataFrame\n",
        "print(df.head())\n"
      ],
      "metadata": {
        "execution": {
          "iopub.status.busy": "2024-03-15T18:22:35.248702Z",
          "iopub.execute_input": "2024-03-15T18:22:35.249088Z",
          "iopub.status.idle": "2024-03-15T18:22:35.331739Z",
          "shell.execute_reply.started": "2024-03-15T18:22:35.249061Z",
          "shell.execute_reply": "2024-03-15T18:22:35.330715Z"
        },
        "trusted": true,
        "id": "8I_JlFTT7y1C",
        "outputId": "94ba9300-5253-4498-e80b-10e3ac23b88f"
      },
      "execution_count": null,
      "outputs": [
        {
          "name": "stdout",
          "text": "                                          image_path       label\n0  /kaggle/input/datasettaskmariam/dataset/data/S...  Stationary\n1  /kaggle/input/datasettaskmariam/dataset/data/S...  Stationary\n2  /kaggle/input/datasettaskmariam/dataset/data/S...  Stationary\n3  /kaggle/input/datasettaskmariam/dataset/data/S...  Stationary\n4  /kaggle/input/datasettaskmariam/dataset/data/S...  Stationary\n",
          "output_type": "stream"
        }
      ]
    },
    {
      "cell_type": "code",
      "source": [
        "df"
      ],
      "metadata": {
        "execution": {
          "iopub.status.busy": "2024-03-15T18:22:51.440558Z",
          "iopub.execute_input": "2024-03-15T18:22:51.441443Z",
          "iopub.status.idle": "2024-03-15T18:22:51.454541Z",
          "shell.execute_reply.started": "2024-03-15T18:22:51.441398Z",
          "shell.execute_reply": "2024-03-15T18:22:51.453415Z"
        },
        "trusted": true,
        "id": "TLONJRno7y1E",
        "outputId": "6dddae6d-7a8d-47f0-a0ce-1bd4f9e229d9"
      },
      "execution_count": null,
      "outputs": [
        {
          "execution_count": 11,
          "output_type": "execute_result",
          "data": {
            "text/plain": "                                            image_path        label\n0    /kaggle/input/datasettaskmariam/dataset/data/S...   Stationary\n1    /kaggle/input/datasettaskmariam/dataset/data/S...   Stationary\n2    /kaggle/input/datasettaskmariam/dataset/data/S...   Stationary\n3    /kaggle/input/datasettaskmariam/dataset/data/S...   Stationary\n4    /kaggle/input/datasettaskmariam/dataset/data/S...   Stationary\n..                                                 ...          ...\n247  /kaggle/input/datasettaskmariam/dataset/data/a...  accessories\n248  /kaggle/input/datasettaskmariam/dataset/data/a...  accessories\n249  /kaggle/input/datasettaskmariam/dataset/data/a...  accessories\n250  /kaggle/input/datasettaskmariam/dataset/data/a...  accessories\n251  /kaggle/input/datasettaskmariam/dataset/data/a...  accessories\n\n[252 rows x 2 columns]",
            "text/html": "<div>\n<style scoped>\n    .dataframe tbody tr th:only-of-type {\n        vertical-align: middle;\n    }\n\n    .dataframe tbody tr th {\n        vertical-align: top;\n    }\n\n    .dataframe thead th {\n        text-align: right;\n    }\n</style>\n<table border=\"1\" class=\"dataframe\">\n  <thead>\n    <tr style=\"text-align: right;\">\n      <th></th>\n      <th>image_path</th>\n      <th>label</th>\n    </tr>\n  </thead>\n  <tbody>\n    <tr>\n      <th>0</th>\n      <td>/kaggle/input/datasettaskmariam/dataset/data/S...</td>\n      <td>Stationary</td>\n    </tr>\n    <tr>\n      <th>1</th>\n      <td>/kaggle/input/datasettaskmariam/dataset/data/S...</td>\n      <td>Stationary</td>\n    </tr>\n    <tr>\n      <th>2</th>\n      <td>/kaggle/input/datasettaskmariam/dataset/data/S...</td>\n      <td>Stationary</td>\n    </tr>\n    <tr>\n      <th>3</th>\n      <td>/kaggle/input/datasettaskmariam/dataset/data/S...</td>\n      <td>Stationary</td>\n    </tr>\n    <tr>\n      <th>4</th>\n      <td>/kaggle/input/datasettaskmariam/dataset/data/S...</td>\n      <td>Stationary</td>\n    </tr>\n    <tr>\n      <th>...</th>\n      <td>...</td>\n      <td>...</td>\n    </tr>\n    <tr>\n      <th>247</th>\n      <td>/kaggle/input/datasettaskmariam/dataset/data/a...</td>\n      <td>accessories</td>\n    </tr>\n    <tr>\n      <th>248</th>\n      <td>/kaggle/input/datasettaskmariam/dataset/data/a...</td>\n      <td>accessories</td>\n    </tr>\n    <tr>\n      <th>249</th>\n      <td>/kaggle/input/datasettaskmariam/dataset/data/a...</td>\n      <td>accessories</td>\n    </tr>\n    <tr>\n      <th>250</th>\n      <td>/kaggle/input/datasettaskmariam/dataset/data/a...</td>\n      <td>accessories</td>\n    </tr>\n    <tr>\n      <th>251</th>\n      <td>/kaggle/input/datasettaskmariam/dataset/data/a...</td>\n      <td>accessories</td>\n    </tr>\n  </tbody>\n</table>\n<p>252 rows × 2 columns</p>\n</div>"
          },
          "metadata": {}
        }
      ]
    },
    {
      "cell_type": "code",
      "source": [
        "df['label'].unique()"
      ],
      "metadata": {
        "execution": {
          "iopub.status.busy": "2024-03-15T18:22:59.435634Z",
          "iopub.execute_input": "2024-03-15T18:22:59.436027Z",
          "iopub.status.idle": "2024-03-15T18:22:59.442623Z",
          "shell.execute_reply.started": "2024-03-15T18:22:59.435999Z",
          "shell.execute_reply": "2024-03-15T18:22:59.441639Z"
        },
        "trusted": true,
        "id": "3iIC3Ser7y1F",
        "outputId": "abd8ef3e-a54d-449f-d241-a7cfdcb94d83"
      },
      "execution_count": null,
      "outputs": [
        {
          "execution_count": 12,
          "output_type": "execute_result",
          "data": {
            "text/plain": "array(['Stationary', 'fashion', 'games', 'home', 'accessories'],\n      dtype=object)"
          },
          "metadata": {}
        }
      ]
    },
    {
      "cell_type": "code",
      "source": [
        "# Define the target size for resizing\n",
        "target_size = (224, 224)\n",
        "\n",
        "# Create a list to store resized images and their corresponding labels\n",
        "resized_images = []\n",
        "labels = []\n",
        "\n",
        "# Loop through each row in the DataFrame\n",
        "for index, row in df.iterrows():\n",
        "    try:\n",
        "        # Read the image using skimage\n",
        "        img = io.imread(row['image_path'])\n",
        "\n",
        "        # Resize the image using skimage.transform\n",
        "        resized_img = transform.resize(img, target_size)\n",
        "\n",
        "        # Append the resized image and its label to the lists\n",
        "        resized_images.append(resized_img.flatten())\n",
        "        labels.append(row['label'])\n",
        "    except Exception as e:\n",
        "        print(f\"Error processing image at path {row['image_path']}: {e}\")\n",
        "\n",
        "# Convert the lists to NumPy arrays\n",
        "resized_images = np.array(resized_images)\n",
        "labels = np.array(labels)\n",
        "\n",
        "# Print the shapes of the resized images array and labels array\n",
        "print(\"Resized images shape:\", resized_images.shape)\n",
        "print(\"Labels shape:\", labels.shape)\n"
      ],
      "metadata": {
        "execution": {
          "iopub.status.busy": "2024-03-15T18:23:32.550218Z",
          "iopub.execute_input": "2024-03-15T18:23:32.550602Z",
          "iopub.status.idle": "2024-03-15T18:24:12.686197Z",
          "shell.execute_reply.started": "2024-03-15T18:23:32.550576Z",
          "shell.execute_reply": "2024-03-15T18:24:12.685220Z"
        },
        "trusted": true,
        "id": "LI4eD7Aq7y1G",
        "outputId": "929a3944-cd8d-49f8-c935-a8c7ef256b22"
      },
      "execution_count": null,
      "outputs": [
        {
          "name": "stdout",
          "text": "Resized images shape: (252, 150528)\nLabels shape: (252,)\n",
          "output_type": "stream"
        }
      ]
    },
    {
      "cell_type": "markdown",
      "source": [
        "**Data visualization**"
      ],
      "metadata": {
        "id": "fSjQo8A18ipL"
      }
    },
    {
      "cell_type": "code",
      "source": [
        "# Plot class distribution\n",
        "plt.figure(figsize=(8, 6))\n",
        "df['label'].value_counts().plot(kind='bar', color='skyblue')\n",
        "plt.title('Class Distribution')\n",
        "plt.xlabel('Class')\n",
        "plt.ylabel('Count')\n",
        "plt.xticks(rotation=45)\n",
        "plt.show()\n"
      ],
      "metadata": {
        "execution": {
          "iopub.status.busy": "2024-03-15T18:27:32.385048Z",
          "iopub.execute_input": "2024-03-15T18:27:32.386003Z",
          "iopub.status.idle": "2024-03-15T18:27:32.670884Z",
          "shell.execute_reply.started": "2024-03-15T18:27:32.385969Z",
          "shell.execute_reply": "2024-03-15T18:27:32.669943Z"
        },
        "trusted": true,
        "id": "RwCi38TF7y1S",
        "outputId": "1fe4904a-b36a-4c05-a660-f578bd9cb242"
      },
      "execution_count": null,
      "outputs": [
        {
          "output_type": "display_data",
          "data": {
            "text/plain": "<Figure size 800x600 with 1 Axes>",
            "image/png": "[encoded data removed]"
          },
          "metadata": {}
        }
      ]
    },
    {
      "cell_type": "markdown",
      "source": [
        "### Model Building"
      ],
      "metadata": {
        "id": "BIF_Ic958VYo"
      }
    },
    {
      "cell_type": "markdown",
      "source": [
        "**Training**"
      ],
      "metadata": {
        "id": "8lMEntD58n-5"
      }
    },
    {
      "cell_type": "markdown",
      "source": [
        "splitting the data into trainig and testing"
      ],
      "metadata": {
        "id": "AsdBpUAB9OOV"
      }
    },
    {
      "cell_type": "code",
      "source": [
        "X_train, X_test, y_train, y_test = train_test_split(resized_images,labels,test_size=0.2,shuffle=True ,stratify=labels)"
      ],
      "metadata": {
        "execution": {
          "iopub.status.busy": "2024-03-15T18:29:18.457488Z",
          "iopub.execute_input": "2024-03-15T18:29:18.458202Z",
          "iopub.status.idle": "2024-03-15T18:29:18.555351Z",
          "shell.execute_reply.started": "2024-03-15T18:29:18.458171Z",
          "shell.execute_reply": "2024-03-15T18:29:18.554531Z"
        },
        "trusted": true,
        "id": "B7UOJJFm7y1I"
      },
      "execution_count": null,
      "outputs": []
    },
    {
      "cell_type": "markdown",
      "source": [
        "Trying RandomForest classifier"
      ],
      "metadata": {
        "id": "mwvvfwhE9VPS"
      }
    },
    {
      "cell_type": "code",
      "source": [
        "clf = RandomForestClassifier(n_estimators=100, random_state=42)\n",
        "\n",
        "# Train the classifier\n",
        "clf.fit(X_train, y_train)"
      ],
      "metadata": {
        "execution": {
          "iopub.status.busy": "2024-03-15T18:24:25.092571Z",
          "iopub.execute_input": "2024-03-15T18:24:25.092944Z",
          "iopub.status.idle": "2024-03-15T18:24:27.340412Z",
          "shell.execute_reply.started": "2024-03-15T18:24:25.092915Z",
          "shell.execute_reply": "2024-03-15T18:24:27.339306Z"
        },
        "trusted": true,
        "id": "m7tesCaQ7y1I",
        "outputId": "9f315e15-6970-4280-99c4-3faf36378ce5"
      },
      "execution_count": null,
      "outputs": [
        {
          "execution_count": 15,
          "output_type": "execute_result",
          "data": {
            "text/plain": "RandomForestClassifier(random_state=42)",
            "text/html": "<style>#sk-container-id-1 {color: black;background-color: white;}#sk-container-id-1 pre{padding: 0;}#sk-container-id-1 div.sk-toggleable {background-color: white;}#sk-container-id-1 label.sk-toggleable__label {cursor: pointer;display: block;width: 100%;margin-bottom: 0;padding: 0.3em;box-sizing: border-box;text-align: center;}#sk-container-id-1 label.sk-toggleable__label-arrow:before {content: \"▸\";float: left;margin-right: 0.25em;color: #696969;}#sk-container-id-1 label.sk-toggleable__label-arrow:hover:before {color: black;}#sk-container-id-1 div.sk-estimator:hover label.sk-toggleable__label-arrow:before {color: black;}#sk-container-id-1 div.sk-toggleable__content {max-height: 0;max-width: 0;overflow: hidden;text-align: left;background-color: #f0f8ff;}#sk-container-id-1 div.sk-toggleable__content pre {margin: 0.2em;color: black;border-radius: 0.25em;background-color: #f0f8ff;}#sk-container-id-1 input.sk-toggleable__control:checked~div.sk-toggleable__content {max-height: 200px;max-width: 100%;overflow: auto;}#sk-container-id-1 input.sk-toggleable__control:checked~label.sk-toggleable__label-arrow:before {content: \"▾\";}#sk-container-id-1 div.sk-estimator input.sk-toggleable__control:checked~label.sk-toggleable__label {background-color: #d4ebff;}#sk-container-id-1 div.sk-label input.sk-toggleable__control:checked~label.sk-toggleable__label {background-color: #d4ebff;}#sk-container-id-1 input.sk-hidden--visually {border: 0;clip: rect(1px 1px 1px 1px);clip: rect(1px, 1px, 1px, 1px);height: 1px;margin: -1px;overflow: hidden;padding: 0;position: absolute;width: 1px;}#sk-container-id-1 div.sk-estimator {font-family: monospace;background-color: #f0f8ff;border: 1px dotted black;border-radius: 0.25em;box-sizing: border-box;margin-bottom: 0.5em;}#sk-container-id-1 div.sk-estimator:hover {background-color: #d4ebff;}#sk-container-id-1 div.sk-parallel-item::after {content: \"\";width: 100%;border-bottom: 1px solid gray;flex-grow: 1;}#sk-container-id-1 div.sk-label:hover label.sk-toggleable__label {background-color: #d4ebff;}#sk-container-id-1 div.sk-serial::before {content: \"\";position: absolute;border-left: 1px solid gray;box-sizing: border-box;top: 0;bottom: 0;left: 50%;z-index: 0;}#sk-container-id-1 div.sk-serial {display: flex;flex-direction: column;align-items: center;background-color: white;padding-right: 0.2em;padding-left: 0.2em;position: relative;}#sk-container-id-1 div.sk-item {position: relative;z-index: 1;}#sk-container-id-1 div.sk-parallel {display: flex;align-items: stretch;justify-content: center;background-color: white;position: relative;}#sk-container-id-1 div.sk-item::before, #sk-container-id-1 div.sk-parallel-item::before {content: \"\";position: absolute;border-left: 1px solid gray;box-sizing: border-box;top: 0;bottom: 0;left: 50%;z-index: -1;}#sk-container-id-1 div.sk-parallel-item {display: flex;flex-direction: column;z-index: 1;position: relative;background-color: white;}#sk-container-id-1 div.sk-parallel-item:first-child::after {align-self: flex-end;width: 50%;}#sk-container-id-1 div.sk-parallel-item:last-child::after {align-self: flex-start;width: 50%;}#sk-container-id-1 div.sk-parallel-item:only-child::after {width: 0;}#sk-container-id-1 div.sk-dashed-wrapped {border: 1px dashed gray;margin: 0 0.4em 0.5em 0.4em;box-sizing: border-box;padding-bottom: 0.4em;background-color: white;}#sk-container-id-1 div.sk-label label {font-family: monospace;font-weight: bold;display: inline-block;line-height: 1.2em;}#sk-container-id-1 div.sk-label-container {text-align: center;}#sk-container-id-1 div.sk-container {/* jupyter's `normalize.less` sets `[hidden] { display: none; }` but bootstrap.min.css set `[hidden] { display: none !important; }` so we also need the `!important` here to be able to override the default hidden behavior on the sphinx rendered scikit-learn.org. See: https://github.com/scikit-learn/scikit-learn/issues/21755 */display: inline-block !important;position: relative;}#sk-container-id-1 div.sk-text-repr-fallback {display: none;}</style><div id=\"sk-container-id-1\" class=\"sk-top-container\"><div class=\"sk-text-repr-fallback\"><pre>RandomForestClassifier(random_state=42)</pre><b>In a Jupyter environment, please rerun this cell to show the HTML representation or trust the notebook. <br />On GitHub, the HTML representation is unable to render, please try loading this page with nbviewer.org.</b></div><div class=\"sk-container\" hidden><div class=\"sk-item\"><div class=\"sk-estimator sk-toggleable\"><input class=\"sk-toggleable__control sk-hidden--visually\" id=\"sk-estimator-id-1\" type=\"checkbox\" checked><label for=\"sk-estimator-id-1\" class=\"sk-toggleable__label sk-toggleable__label-arrow\">RandomForestClassifier</label><div class=\"sk-toggleable__content\"><pre>RandomForestClassifier(random_state=42)</pre></div></div></div></div></div>"
          },
          "metadata": {}
        }
      ]
    },
    {
      "cell_type": "markdown",
      "source": [
        "testing randomforest classifier and evaluate the performance"
      ],
      "metadata": {
        "id": "l7KrE30A-Yqm"
      }
    },
    {
      "cell_type": "code",
      "source": [
        "# Make predictions on the testing set\n",
        "y_pred = clf.predict(X_test)\n",
        "\n",
        "# Evaluate the performance of the classifier\n",
        "# Calculate accuracy\n",
        "accuracy = accuracy_score(y_test, y_pred)\n",
        "print(\"Accuracy:\", accuracy)\n",
        "\n",
        "# Generate classification report\n",
        "print(\"Classification Report:\")\n",
        "print(classification_report(y_test, y_pred))\n",
        "\n",
        "# Generate confusion matrix\n",
        "print(\"Confusion Matrix:\")\n",
        "print(confusion_matrix(y_test, y_pred))\n"
      ],
      "metadata": {
        "execution": {
          "iopub.status.busy": "2024-03-15T18:41:13.430812Z",
          "iopub.execute_input": "2024-03-15T18:41:13.431771Z",
          "iopub.status.idle": "2024-03-15T18:41:13.472308Z",
          "shell.execute_reply.started": "2024-03-15T18:41:13.431731Z",
          "shell.execute_reply": "2024-03-15T18:41:13.471213Z"
        },
        "trusted": true,
        "id": "qgMb0N9p7y1J",
        "outputId": "1fb554f2-cb33-423d-a9fa-8dc85306e6de"
      },
      "execution_count": null,
      "outputs": [
        {
          "name": "stdout",
          "text": "Accuracy: 0.9803921568627451\nClassification Report:\n              precision    recall  f1-score   support\n\n  Stationary       1.00      1.00      1.00        13\n accessories       1.00      1.00      1.00         9\n     fashion       1.00      0.91      0.95        11\n       games       1.00      1.00      1.00         7\n        home       0.92      1.00      0.96        11\n\n    accuracy                           0.98        51\n   macro avg       0.98      0.98      0.98        51\nweighted avg       0.98      0.98      0.98        51\n\nConfusion Matrix:\n[[13  0  0  0  0]\n [ 0  9  0  0  0]\n [ 0  0 10  0  1]\n [ 0  0  0  7  0]\n [ 0  0  0  0 11]]\n",
          "output_type": "stream"
        }
      ]
    },
    {
      "cell_type": "markdown",
      "source": [
        "i see this model is get overfitted with data so i could try another classifier"
      ],
      "metadata": {
        "id": "WWroaHKa-jKs"
      }
    },
    {
      "cell_type": "markdown",
      "source": [
        "Trying support vector machine classifier"
      ],
      "metadata": {
        "id": "w_A_M_sI-vEn"
      }
    },
    {
      "cell_type": "code",
      "source": [
        "classifier = SVC()\n",
        "\n",
        "parameters=[{'gamma':[0.01,0.001],'C':[1,10,100]}]\n",
        "\n"
      ],
      "metadata": {
        "execution": {
          "iopub.status.busy": "2024-03-15T18:41:54.808583Z",
          "iopub.execute_input": "2024-03-15T18:41:54.809336Z",
          "iopub.status.idle": "2024-03-15T18:43:38.198763Z",
          "shell.execute_reply.started": "2024-03-15T18:41:54.809305Z",
          "shell.execute_reply": "2024-03-15T18:43:38.197700Z"
        },
        "trusted": true,
        "id": "yMLV3sdj7y1K",
        "outputId": "d4378524-425c-4fa4-d632-50b1d9069470"
      },
      "execution_count": null,
      "outputs": [
        {
          "execution_count": 26,
          "output_type": "execute_result",
          "data": {
            "text/plain": "GridSearchCV(estimator=SVC(),\n             param_grid=[{'C': [1, 10], 'gamma': [0.01, 0.001]}])",
            "text/html": "<style>#sk-container-id-2 {color: black;background-color: white;}#sk-container-id-2 pre{padding: 0;}#sk-container-id-2 div.sk-toggleable {background-color: white;}#sk-container-id-2 label.sk-toggleable__label {cursor: pointer;display: block;width: 100%;margin-bottom: 0;padding: 0.3em;box-sizing: border-box;text-align: center;}#sk-container-id-2 label.sk-toggleable__label-arrow:before {content: \"▸\";float: left;margin-right: 0.25em;color: #696969;}#sk-container-id-2 label.sk-toggleable__label-arrow:hover:before {color: black;}#sk-container-id-2 div.sk-estimator:hover label.sk-toggleable__label-arrow:before {color: black;}#sk-container-id-2 div.sk-toggleable__content {max-height: 0;max-width: 0;overflow: hidden;text-align: left;background-color: #f0f8ff;}#sk-container-id-2 div.sk-toggleable__content pre {margin: 0.2em;color: black;border-radius: 0.25em;background-color: #f0f8ff;}#sk-container-id-2 input.sk-toggleable__control:checked~div.sk-toggleable__content {max-height: 200px;max-width: 100%;overflow: auto;}#sk-container-id-2 input.sk-toggleable__control:checked~label.sk-toggleable__label-arrow:before {content: \"▾\";}#sk-container-id-2 div.sk-estimator input.sk-toggleable__control:checked~label.sk-toggleable__label {background-color: #d4ebff;}#sk-container-id-2 div.sk-label input.sk-toggleable__control:checked~label.sk-toggleable__label {background-color: #d4ebff;}#sk-container-id-2 input.sk-hidden--visually {border: 0;clip: rect(1px 1px 1px 1px);clip: rect(1px, 1px, 1px, 1px);height: 1px;margin: -1px;overflow: hidden;padding: 0;position: absolute;width: 1px;}#sk-container-id-2 div.sk-estimator {font-family: monospace;background-color: #f0f8ff;border: 1px dotted black;border-radius: 0.25em;box-sizing: border-box;margin-bottom: 0.5em;}#sk-container-id-2 div.sk-estimator:hover {background-color: #d4ebff;}#sk-container-id-2 div.sk-parallel-item::after {content: \"\";width: 100%;border-bottom: 1px solid gray;flex-grow: 1;}#sk-container-id-2 div.sk-label:hover label.sk-toggleable__label {background-color: #d4ebff;}#sk-container-id-2 div.sk-serial::before {content: \"\";position: absolute;border-left: 1px solid gray;box-sizing: border-box;top: 0;bottom: 0;left: 50%;z-index: 0;}#sk-container-id-2 div.sk-serial {display: flex;flex-direction: column;align-items: center;background-color: white;padding-right: 0.2em;padding-left: 0.2em;position: relative;}#sk-container-id-2 div.sk-item {position: relative;z-index: 1;}#sk-container-id-2 div.sk-parallel {display: flex;align-items: stretch;justify-content: center;background-color: white;position: relative;}#sk-container-id-2 div.sk-item::before, #sk-container-id-2 div.sk-parallel-item::before {content: \"\";position: absolute;border-left: 1px solid gray;box-sizing: border-box;top: 0;bottom: 0;left: 50%;z-index: -1;}#sk-container-id-2 div.sk-parallel-item {display: flex;flex-direction: column;z-index: 1;position: relative;background-color: white;}#sk-container-id-2 div.sk-parallel-item:first-child::after {align-self: flex-end;width: 50%;}#sk-container-id-2 div.sk-parallel-item:last-child::after {align-self: flex-start;width: 50%;}#sk-container-id-2 div.sk-parallel-item:only-child::after {width: 0;}#sk-container-id-2 div.sk-dashed-wrapped {border: 1px dashed gray;margin: 0 0.4em 0.5em 0.4em;box-sizing: border-box;padding-bottom: 0.4em;background-color: white;}#sk-container-id-2 div.sk-label label {font-family: monospace;font-weight: bold;display: inline-block;line-height: 1.2em;}#sk-container-id-2 div.sk-label-container {text-align: center;}#sk-container-id-2 div.sk-container {/* jupyter's `normalize.less` sets `[hidden] { display: none; }` but bootstrap.min.css set `[hidden] { display: none !important; }` so we also need the `!important` here to be able to override the default hidden behavior on the sphinx rendered scikit-learn.org. See: https://github.com/scikit-learn/scikit-learn/issues/21755 */display: inline-block !important;position: relative;}#sk-container-id-2 div.sk-text-repr-fallback {display: none;}</style><div id=\"sk-container-id-2\" class=\"sk-top-container\"><div class=\"sk-text-repr-fallback\"><pre>GridSearchCV(estimator=SVC(),\n             param_grid=[{&#x27;C&#x27;: [1, 10], &#x27;gamma&#x27;: [0.01, 0.001]}])</pre><b>In a Jupyter environment, please rerun this cell to show the HTML representation or trust the notebook. <br />On GitHub, the HTML representation is unable to render, please try loading this page with nbviewer.org.</b></div><div class=\"sk-container\" hidden><div class=\"sk-item sk-dashed-wrapped\"><div class=\"sk-label-container\"><div class=\"sk-label sk-toggleable\"><input class=\"sk-toggleable__control sk-hidden--visually\" id=\"sk-estimator-id-2\" type=\"checkbox\" ><label for=\"sk-estimator-id-2\" class=\"sk-toggleable__label sk-toggleable__label-arrow\">GridSearchCV</label><div class=\"sk-toggleable__content\"><pre>GridSearchCV(estimator=SVC(),\n             param_grid=[{&#x27;C&#x27;: [1, 10], &#x27;gamma&#x27;: [0.01, 0.001]}])</pre></div></div></div><div class=\"sk-parallel\"><div class=\"sk-parallel-item\"><div class=\"sk-item\"><div class=\"sk-label-container\"><div class=\"sk-label sk-toggleable\"><input class=\"sk-toggleable__control sk-hidden--visually\" id=\"sk-estimator-id-3\" type=\"checkbox\" ><label for=\"sk-estimator-id-3\" class=\"sk-toggleable__label sk-toggleable__label-arrow\">estimator: SVC</label><div class=\"sk-toggleable__content\"><pre>SVC()</pre></div></div></div><div class=\"sk-serial\"><div class=\"sk-item\"><div class=\"sk-estimator sk-toggleable\"><input class=\"sk-toggleable__control sk-hidden--visually\" id=\"sk-estimator-id-4\" type=\"checkbox\" ><label for=\"sk-estimator-id-4\" class=\"sk-toggleable__label sk-toggleable__label-arrow\">SVC</label><div class=\"sk-toggleable__content\"><pre>SVC()</pre></div></div></div></div></div></div></div></div></div></div>"
          },
          "metadata": {}
        }
      ]
    },
    {
      "cell_type": "markdown",
      "source": [
        "**Fine Tuning** :\n",
        "\n",
        "\n",
        "\n",
        "grid search is a fine-tuning method used to systematically explore and optimize hyperparameter settings for machine learning models."
      ],
      "metadata": {
        "id": "5_sBwXX_-6Un"
      }
    },
    {
      "cell_type": "code",
      "source": [
        "\n",
        "grid_search=GridSearchCV(classifier,parameters)\n",
        "\n",
        "grid_search.fit(X_train,y_train)"
      ],
      "metadata": {
        "id": "bZ-Ett-19Dzm"
      },
      "execution_count": null,
      "outputs": []
    },
    {
      "cell_type": "markdown",
      "source": [
        "Testing step and evaluate the performance of classifier\n"
      ],
      "metadata": {
        "id": "Has19z4G88Jh"
      }
    },
    {
      "cell_type": "code",
      "source": [
        "best_estimator=grid_search.best_estimator_\n",
        "y_prediction = best_estimator.predict(X_test)\n",
        "score=accuracy_score(y_prediction,y_test)\n",
        "print('{}% of samples were correctly classified'.format(str(score * 100)))"
      ],
      "metadata": {
        "execution": {
          "iopub.status.busy": "2024-03-15T18:43:46.080167Z",
          "iopub.execute_input": "2024-03-15T18:43:46.081076Z",
          "iopub.status.idle": "2024-03-15T18:43:49.208608Z",
          "shell.execute_reply.started": "2024-03-15T18:43:46.081043Z",
          "shell.execute_reply": "2024-03-15T18:43:49.207393Z"
        },
        "trusted": true,
        "id": "pojo4dWK7y1L",
        "outputId": "db52a01c-8450-4e07-ad32-c03d9091a1fc"
      },
      "execution_count": null,
      "outputs": [
        {
          "name": "stdout",
          "text": "50.98039215686274% of samples were correctly classified\n",
          "output_type": "stream"
        }
      ]
    },
    {
      "cell_type": "markdown",
      "source": [
        "i see the classifier is underfitted with the data"
      ],
      "metadata": {
        "id": "d4hhMVNpAEdt"
      }
    },
    {
      "cell_type": "markdown",
      "source": [
        "Building another model for svm using different parameters"
      ],
      "metadata": {
        "id": "VATCwoVWAcMt"
      }
    },
    {
      "cell_type": "code",
      "source": [
        "# Create an SVM classifier\n",
        "svm_classifier = SVC(kernel='linear', C=1.0, random_state=42)\n",
        "\n",
        "# Train the classifier\n",
        "svm_classifier.fit(X_train, y_train)\n",
        "\n",
        "# Make predictions on the testing set\n",
        "y_pred = svm_classifier.predict(X_test)\n",
        "\n",
        "# Evaluate the performance of the classifier\n",
        "accuracy = accuracy_score(y_test, y_pred)\n",
        "print(\"Accuracy:\", accuracy)\n",
        "\n",
        "# Generate classification report\n",
        "print(\"Classification Report:\")\n",
        "print(classification_report(y_test, y_pred))\n",
        "\n",
        "# Generate confusion matrix\n",
        "print(\"Confusion Matrix:\")\n",
        "print(confusion_matrix(y_test, y_pred))\n"
      ],
      "metadata": {
        "execution": {
          "iopub.status.busy": "2024-03-15T18:46:51.270459Z",
          "iopub.execute_input": "2024-03-15T18:46:51.270869Z",
          "iopub.status.idle": "2024-03-15T18:46:54.619909Z",
          "shell.execute_reply.started": "2024-03-15T18:46:51.270841Z",
          "shell.execute_reply": "2024-03-15T18:46:54.618656Z"
        },
        "trusted": true,
        "id": "ywsHC9hP7y1N",
        "outputId": "e4eb330d-acf6-45fa-c63f-a9184d259bf3"
      },
      "execution_count": null,
      "outputs": [
        {
          "name": "stdout",
          "text": "Accuracy: 0.6666666666666666\nClassification Report:\n              precision    recall  f1-score   support\n\n  Stationary       1.00      1.00      1.00        13\n accessories       0.50      0.33      0.40         9\n     fashion       0.67      0.55      0.60        11\n       games       0.80      0.57      0.67         7\n        home       0.44      0.73      0.55        11\n\n    accuracy                           0.67        51\n   macro avg       0.68      0.64      0.64        51\nweighted avg       0.69      0.67      0.67        51\n\nConfusion Matrix:\n[[13  0  0  0  0]\n [ 0  3  2  1  3]\n [ 0  0  6  0  5]\n [ 0  1  0  4  2]\n [ 0  2  1  0  8]]\n",
          "output_type": "stream"
        }
      ]
    },
    {
      "cell_type": "markdown",
      "source": [
        "the accuracy is good and the model goodfitted with data  "
      ],
      "metadata": {
        "id": "Wb63fMNKAz7K"
      }
    },
    {
      "cell_type": "markdown",
      "source": [
        "Now testing this model  "
      ],
      "metadata": {
        "id": "0R7CbmRzBC9H"
      }
    },
    {
      "cell_type": "code",
      "source": [
        "# Load and preprocess the test image\n",
        "test_image_path = '/kaggle/input/datasettaskmariam/dataset/data/Stationary/Screenshot_20240312_204239.jpg'  # Replace with the path to your test image\n",
        "test_image = io.imread(test_image_path)  # Load the image\n",
        "# Preprocess the image (resize, normalize, etc.)\n",
        "# Make sure to preprocess the image in the same way as your training data\n",
        "\n",
        "# Resize the image to match the dimensions of the training images\n",
        "# Replace `target_size` with the dimensions of your training images\n",
        "target_size = (224, 224)  # Replace with the dimensions of your training images\n",
        "test_image_resized = transform.resize(test_image, target_size)\n",
        "\n",
        "# Flatten the image to create a feature vector\n",
        "test_image_feature_vector = test_image_resized.flatten()\n",
        "\n",
        "# Pass the feature vector to the trained SVM classifier for prediction\n",
        "predicted_label = svm_classifier.predict(test_image_feature_vector.reshape(1, -1))\n",
        "\n",
        "print(\"Predicted label:\", predicted_label)\n",
        "\n"
      ],
      "metadata": {
        "execution": {
          "iopub.status.busy": "2024-03-15T18:50:43.403198Z",
          "iopub.execute_input": "2024-03-15T18:50:43.403589Z",
          "iopub.status.idle": "2024-03-15T18:50:43.742696Z",
          "shell.execute_reply.started": "2024-03-15T18:50:43.403561Z",
          "shell.execute_reply": "2024-03-15T18:50:43.739196Z"
        },
        "trusted": true,
        "id": "hZ0kG0kN7y1O",
        "outputId": "7ceec1a7-885b-4546-9c6a-64c2a2b82403"
      },
      "execution_count": null,
      "outputs": [
        {
          "name": "stdout",
          "text": "Predicted label: ['Stationary']\n",
          "output_type": "stream"
        }
      ]
    },
    {
      "cell_type": "markdown",
      "source": [
        "**Try using crossvalidation**"
      ],
      "metadata": {
        "id": "Am6Oed--BMQA"
      }
    },
    {
      "cell_type": "code",
      "source": [
        "from sklearn.model_selection import cross_val_score\n",
        "\n",
        "# Perform cross-validation\n",
        "scores = cross_val_score(svm_classifier, X_train, y_train, cv=5)\n",
        "print(\"Cross-Validation Scores:\", scores)\n",
        "print(\"Mean Accuracy:\", scores.mean())\n"
      ],
      "metadata": {
        "execution": {
          "iopub.status.busy": "2024-03-15T18:53:11.077563Z",
          "iopub.execute_input": "2024-03-15T18:53:11.078588Z",
          "iopub.status.idle": "2024-03-15T18:53:23.729311Z",
          "shell.execute_reply.started": "2024-03-15T18:53:11.078553Z",
          "shell.execute_reply": "2024-03-15T18:53:23.728003Z"
        },
        "trusted": true,
        "id": "OuxYZjib7y1P",
        "outputId": "38a18600-fc4f-48c3-e5c0-073e9dd22a59"
      },
      "execution_count": null,
      "outputs": [
        {
          "name": "stdout",
          "text": "Cross-Validation Scores: [0.63414634 0.675      0.55       0.65       0.6       ]\nMean Accuracy: 0.6218292682926829\n",
          "output_type": "stream"
        }
      ]
    },
    {
      "cell_type": "code",
      "source": [
        "# Split the training data into training and validation sets\n",
        "X_train_split, X_val, y_train_split, y_val = train_test_split(X_train, y_train, test_size=0.2, random_state=42)\n",
        "\n",
        "# Train the classifier on the training set\n",
        "svm_classifier.fit(X_train_split, y_train_split)\n",
        "\n",
        "# Evaluate the performance of the classifier on the validation set\n",
        "y_val_pred = svm_classifier.predict(X_val)\n",
        "val_accuracy = accuracy_score(y_val, y_val_pred)\n",
        "print(\"Validation Accuracy:\", val_accuracy)\n"
      ],
      "metadata": {
        "execution": {
          "iopub.status.busy": "2024-03-15T18:53:58.563633Z",
          "iopub.execute_input": "2024-03-15T18:53:58.564261Z",
          "iopub.status.idle": "2024-03-15T18:54:01.333182Z",
          "shell.execute_reply.started": "2024-03-15T18:53:58.564230Z",
          "shell.execute_reply": "2024-03-15T18:54:01.331989Z"
        },
        "trusted": true,
        "id": "qA_hYq2l7y1Q",
        "outputId": "8e7e74c2-8859-43d6-c80f-d82f442beabd"
      },
      "execution_count": null,
      "outputs": [
        {
          "name": "stdout",
          "text": "Validation Accuracy: 0.5121951219512195\n",
          "output_type": "stream"
        }
      ]
    },
    {
      "cell_type": "markdown",
      "source": [
        "Another try qnd aother way for gridsearch to get the best parameters\n"
      ],
      "metadata": {
        "id": "8raGLtizB8zP"
      }
    },
    {
      "cell_type": "code",
      "source": [
        "# Define the grid of hyperparameters\n",
        "param_grid = {'C': [0.1, 1, 10], 'kernel': ['linear', 'rbf']}\n",
        "\n",
        "# Perform grid search\n",
        "grid_search = GridSearchCV(svm_classifier, param_grid, cv=5)\n",
        "grid_search.fit(X_train, y_train)\n",
        "\n",
        "# Get the best hyperparameters\n",
        "best_params = grid_search.best_params_\n",
        "print(\"Best Hyperparameters:\", best_params)\n"
      ],
      "metadata": {
        "execution": {
          "iopub.status.busy": "2024-03-15T18:54:18.025311Z",
          "iopub.execute_input": "2024-03-15T18:54:18.026516Z",
          "iopub.status.idle": "2024-03-15T18:56:01.759786Z",
          "shell.execute_reply.started": "2024-03-15T18:54:18.026480Z",
          "shell.execute_reply": "2024-03-15T18:56:01.758348Z"
        },
        "trusted": true,
        "id": "gq3iQU0y7y1Q",
        "outputId": "dd847b4b-e283-43cc-d73e-c47c887a7662"
      },
      "execution_count": null,
      "outputs": [
        {
          "name": "stdout",
          "text": "Best Hyperparameters: {'C': 10, 'kernel': 'rbf'}\n",
          "output_type": "stream"
        }
      ]
    },
    {
      "cell_type": "code",
      "source": [
        "# Get the best estimator from grid search\n",
        "best_svm_classifier = grid_search.best_estimator_\n",
        "\n",
        "# Retrain the classifier on the entire training set with the best hyperparameters\n",
        "best_svm_classifier.fit(X_train, y_train)\n",
        "\n",
        "# Make predictions on the testing set using the retrained classifier\n",
        "y_pred = best_svm_classifier.predict(X_test)\n",
        "\n",
        "# Evaluate the performance of the classifier\n",
        "accuracy = accuracy_score(y_test, y_pred)\n",
        "print(\"Accuracy with Best Hyperparameters:\", accuracy)\n",
        "\n",
        "# Generate classification report\n",
        "print(\"Classification Report:\")\n",
        "print(classification_report(y_test, y_pred))\n",
        "\n",
        "# Generate confusion matrix\n",
        "print(\"Confusion Matrix:\")\n",
        "print(confusion_matrix(y_test, y_pred))\n"
      ],
      "metadata": {
        "execution": {
          "iopub.status.busy": "2024-03-15T18:57:52.360301Z",
          "iopub.execute_input": "2024-03-15T18:57:52.361068Z",
          "iopub.status.idle": "2024-03-15T18:57:58.120243Z",
          "shell.execute_reply.started": "2024-03-15T18:57:52.361037Z",
          "shell.execute_reply": "2024-03-15T18:57:58.118870Z"
        },
        "trusted": true,
        "id": "Br93o1Hr7y1R",
        "outputId": "68c6d6d6-9ec1-443f-8c44-404243143b2c"
      },
      "execution_count": null,
      "outputs": [
        {
          "name": "stdout",
          "text": "Accuracy with Best Hyperparameters: 0.6666666666666666\nClassification Report:\n              precision    recall  f1-score   support\n\n  Stationary       1.00      1.00      1.00        13\n accessories       0.40      0.22      0.29         9\n     fashion       0.60      0.55      0.57        11\n       games       0.80      0.57      0.67         7\n        home       0.50      0.82      0.62        11\n\n    accuracy                           0.67        51\n   macro avg       0.66      0.63      0.63        51\nweighted avg       0.67      0.67      0.65        51\n\nConfusion Matrix:\n[[13  0  0  0  0]\n [ 0  2  3  0  4]\n [ 0  1  6  1  3]\n [ 0  1  0  4  2]\n [ 0  1  1  0  9]]\n",
          "output_type": "stream"
        }
      ]
    }
  ]
}